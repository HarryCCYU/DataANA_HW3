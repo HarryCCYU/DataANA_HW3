{
 "cells": [
  {
   "cell_type": "markdown",
   "metadata": {},
   "source": [
    "# HW3 Predict the Stock\n",
    "E94041173 張竣佑"
   ]
  },
  {
   "cell_type": "code",
   "execution_count": 75,
   "metadata": {},
   "outputs": [
    {
     "name": "stdout",
     "output_type": "stream",
     "text": [
      "          Date  Open Price  Close Price  High Price  Low Price      Volume\n",
      "0  02-Jan-2009      902.99       931.80      934.73     899.35  4048270080\n",
      "1  05-Jan-2009      929.17       927.45      936.63     919.53  5413910016\n",
      "2  06-Jan-2009      931.17       934.70      943.85     927.28  5392620032\n",
      "3  07-Jan-2009      927.45       906.65      927.45     902.37  4704940032\n",
      "4  08-Jan-2009      905.73       909.73      910.00     896.81  4991549952\n",
      "          Date  Open Price  Close Price  High Price  Low Price      Volume\n",
      "0  02-Jan-2018     2683.73      2695.81     2695.89    2682.36  1846463232\n",
      "1  03-Jan-2018     2697.85      2713.06     2714.37    2697.77  2090595328\n",
      "2  04-Jan-2018     2719.31      2723.99     2729.29    2719.07  2100767744\n",
      "3  05-Jan-2018     2731.33      2743.15     2743.45    2727.92  1918869120\n",
      "4  08-Jan-2018     2742.67      2747.71     2748.51    2737.60  1894823936\n"
     ]
    }
   ],
   "source": [
    "import pandas as pd\n",
    "from sklearn import preprocessing\n",
    "train_data = pd.read_csv('./training_data.csv')\n",
    "test_data = pd.read_csv('./testing_data.csv')\n",
    "print(train_data.head())\n",
    "print(test_data.head())"
   ]
  },
  {
   "cell_type": "markdown",
   "metadata": {},
   "source": [
    "### Prepare Data"
   ]
  },
  {
   "cell_type": "code",
   "execution_count": 111,
   "metadata": {},
   "outputs": [
    {
     "name": "stdout",
     "output_type": "stream",
     "text": [
      "(2263, 5)\n",
      "(251, 5)\n",
      "(2263,)\n",
      "(251,)\n"
     ]
    }
   ],
   "source": [
    "import numpy as np\n",
    "x_train = train_data.drop('Date',axis=1)\n",
    "x_test = test_data.drop('Date',axis=1)\n",
    "def Get_label(data):\n",
    "    label_list = list()\n",
    "    for i in range(len(data)-1):\n",
    "        if data['Close Price'][i+1]-data['Close Price'][i] >= 0:\n",
    "            label_list.append(1)\n",
    "        else:\n",
    "            label_list.append(0)\n",
    "    return np.array(label_list)\n",
    "# y_train = Get_label(x_train['Close Price'])   \n",
    "# y_test = Get_label(x_test['Close Price'])\n",
    "y_train = Get_label(x_train)   \n",
    "y_test = Get_label(x_test)\n",
    "# x_train['TODAYwinloss'] = np.hstack((0,y_train))\n",
    "# x_test['TODAYwinloss'] = np.hstack((0,y_test))\n",
    "x_train = x_train[:-1]\n",
    "x_test = x_test[:-1]\n",
    "print(x_train.shape)\n",
    "print(x_test.shape)\n",
    "print(y_train.shape)\n",
    "print(y_test.shape)\n",
    "# x_train = preprocessing.normalize(x_train)\n",
    "# x_test = preprocessing.normalize(x_test)"
   ]
  },
  {
   "cell_type": "code",
   "execution_count": 112,
   "metadata": {},
   "outputs": [
    {
     "name": "stdout",
     "output_type": "stream",
     "text": [
      "   Open Price  Close Price  High Price  Low Price      Volume\n",
      "0      902.99       931.80      934.73     899.35  4048270080\n",
      "1      929.17       927.45      936.63     919.53  5413910016\n",
      "2      931.17       934.70      943.85     927.28  5392620032\n",
      "3      927.45       906.65      927.45     902.37  4704940032\n",
      "4      905.73       909.73      910.00     896.81  4991549952 [0 1 0 1 0]\n",
      "   Open Price  Close Price  High Price  Low Price      Volume\n",
      "0     2683.73      2695.81     2695.89    2682.36  1846463232\n",
      "1     2697.85      2713.06     2714.37    2697.77  2090595328\n",
      "2     2719.31      2723.99     2729.29    2719.07  2100767744\n",
      "3     2731.33      2743.15     2743.45    2727.92  1918869120\n",
      "4     2742.67      2747.71     2748.51    2737.60  1894823936\n",
      "5     2751.15      2751.29     2759.14    2747.86  1957263872\n",
      "6     2745.55      2748.23     2750.80    2736.06  2048867328\n",
      "7     2752.97      2767.56     2767.56    2752.78  1978592384\n",
      "8     2770.18      2786.24     2787.85    2769.64  2108422912\n",
      "9     2798.96      2776.42     2807.54    2768.64  2532135680 [1 1 1 1 1 0 1 1 0 1]\n"
     ]
    }
   ],
   "source": [
    "print(x_train[:5],y_train[:5])\n",
    "print(x_test[:10],y_test[:10])"
   ]
  },
  {
   "cell_type": "markdown",
   "metadata": {},
   "source": [
    "### LOGISTICREGRESSION"
   ]
  },
  {
   "cell_type": "markdown",
   "metadata": {},
   "source": [
    "# 使用五天的open_price、close_price共10個值當features"
   ]
  },
  {
   "cell_type": "code",
   "execution_count": 113,
   "metadata": {},
   "outputs": [
    {
     "name": "stdout",
     "output_type": "stream",
     "text": [
      "(242, 20) (2254, 20) (242,) (2254,)\n"
     ]
    }
   ],
   "source": [
    "close_price_tr = x_train['Close Price']\n",
    "open_price_tr = x_train['Open Price']\n",
    "close_price_te = x_test['Close Price']\n",
    "open_price_te = x_test['Open Price']\n",
    "LG_x_train = list()\n",
    "LG_y_train = list()\n",
    "LG_x_test = list()\n",
    "LG_y_test = list()\n",
    "for i in range(len(close_price_tr)-9):\n",
    "    cp_tr = close_price_tr[i:i+10]\n",
    "    op_tr = open_price_tr[i:i+10]\n",
    "    combine_tr = np.hstack((cp_tr,op_tr))\n",
    "    LG_x_train.append(combine_tr)\n",
    "    LG_y_train.append(y_train[i+9])\n",
    "for i in range(len(close_price_te)-9):\n",
    "    cp_te = close_price_te[i:i+10]\n",
    "    op_te = open_price_te[i:i+10]\n",
    "    combine_te = np.hstack((cp_te,op_te))\n",
    "    LG_x_test.append(combine_te)\n",
    "    LG_y_test.append(y_test[i+9])\n",
    "        \n",
    "LG_x_train = np.array(LG_x_train)\n",
    "LG_y_train = np.array(LG_y_train)\n",
    "LG_x_test = np.array(LG_x_test)\n",
    "LG_y_test = np.array(LG_y_test)\n",
    "\n",
    "print(LG_x_test.shape,LG_x_train.shape,LG_y_test.shape,LG_y_train.shape)"
   ]
  },
  {
   "cell_type": "markdown",
   "metadata": {},
   "source": [
    "# 原本只使用一天的資料當features"
   ]
  },
  {
   "cell_type": "code",
   "execution_count": 114,
   "metadata": {},
   "outputs": [
    {
     "name": "stdout",
     "output_type": "stream",
     "text": [
      "0.5258964143426295\n"
     ]
    }
   ],
   "source": [
    "from sklearn.linear_model import LogisticRegression\n",
    "from sklearn.metrics import accuracy_score\n",
    "clf = LogisticRegression()\n",
    "clf.fit(x_train,y_train)\n",
    "prediction = clf.predict(x_test)\n",
    "print(accuracy_score(y_test,prediction))"
   ]
  },
  {
   "cell_type": "markdown",
   "metadata": {},
   "source": [
    "# 使用五天資料的預測模型"
   ]
  },
  {
   "cell_type": "code",
   "execution_count": 115,
   "metadata": {},
   "outputs": [
    {
     "name": "stdout",
     "output_type": "stream",
     "text": [
      "0.5041322314049587\n"
     ]
    }
   ],
   "source": [
    "clf2 = LogisticRegression()\n",
    "clf2.fit(LG_x_train,LG_y_train)\n",
    "prediction = clf2.predict(LG_x_test)\n",
    "print(accuracy_score(LG_y_test,prediction))"
   ]
  },
  {
   "cell_type": "markdown",
   "metadata": {},
   "source": [
    "### SVM"
   ]
  },
  {
   "cell_type": "markdown",
   "metadata": {},
   "source": [
    "## 整理資料"
   ]
  },
  {
   "cell_type": "code",
   "execution_count": 116,
   "metadata": {},
   "outputs": [
    {
     "name": "stdout",
     "output_type": "stream",
     "text": [
      "(251, 4) (2263, 4) (2263,)\n"
     ]
    }
   ],
   "source": [
    "# SVM_cp = train_data['Close Price']\n",
    "# SVM_y_train = SVM_cp[1::]\n",
    "SVM_y_train = np.array(y_train)\n",
    "SVM_y_test = np.array(y_test)\n",
    "SVM_x_train = x_train.drop('Volume',axis=1)\n",
    "SVM_x_test = x_test.drop('Volume',axis=1)\n",
    "SVM_x_train = np.array(SVM_x_train)\n",
    "SVM_x_test = np.array(SVM_x_test)\n",
    "SVM_y_train = np.array(SVM_y_train)\n",
    "print(SVM_x_test.shape,SVM_x_train.shape,SVM_y_train.shape)\n",
    "# for i in SVM_y_train:\n",
    "#     print(type(i))"
   ]
  },
  {
   "cell_type": "code",
   "execution_count": 117,
   "metadata": {},
   "outputs": [
    {
     "name": "stdout",
     "output_type": "stream",
     "text": [
      "0.5258964143426295\n"
     ]
    }
   ],
   "source": [
    "from sklearn.svm import SVC\n",
    "clf3 = SVC(C=0.5,kernel='rbf',probability=True)\n",
    "clf3.fit(SVM_x_train,SVM_y_train)\n",
    "# clf3.fit(LG_x_train,LG_y_train)\n",
    "prediction = clf3.predict(SVM_x_test)\n",
    "print(accuracy_score(SVM_y_test,prediction))"
   ]
  },
  {
   "cell_type": "markdown",
   "metadata": {},
   "source": [
    "### Neural Network"
   ]
  },
  {
   "cell_type": "code",
   "execution_count": 118,
   "metadata": {},
   "outputs": [
    {
     "name": "stdout",
     "output_type": "stream",
     "text": [
      "(251, 5) (2263, 5) (2263, 2) (251, 2)\n"
     ]
    }
   ],
   "source": [
    "import keras\n",
    "NN_x_train = np.array(x_train)\n",
    "NN_x_test = np.array(x_test)\n",
    "NN_y_train = np.array(y_train)\n",
    "NN_y_train = keras.utils.to_categorical(NN_y_train,2)\n",
    "NN_y_test = np.array(y_test)\n",
    "NN_y_test = keras.utils.to_categorical(NN_y_test,2)\n",
    "print(NN_x_test.shape,NN_x_train.shape,NN_y_train.shape,NN_y_test.shape)"
   ]
  },
  {
   "cell_type": "code",
   "execution_count": 121,
   "metadata": {},
   "outputs": [
    {
     "name": "stdout",
     "output_type": "stream",
     "text": [
      "_________________________________________________________________\n",
      "Layer (type)                 Output Shape              Param #   \n",
      "=================================================================\n",
      "dense_126 (Dense)            (None, 8)                 48        \n",
      "_________________________________________________________________\n",
      "dropout_101 (Dropout)        (None, 8)                 0         \n",
      "_________________________________________________________________\n",
      "dense_127 (Dense)            (None, 16)                144       \n",
      "_________________________________________________________________\n",
      "dropout_102 (Dropout)        (None, 16)                0         \n",
      "_________________________________________________________________\n",
      "dense_128 (Dense)            (None, 16)                272       \n",
      "_________________________________________________________________\n",
      "dropout_103 (Dropout)        (None, 16)                0         \n",
      "_________________________________________________________________\n",
      "dense_129 (Dense)            (None, 8)                 136       \n",
      "_________________________________________________________________\n",
      "dropout_104 (Dropout)        (None, 8)                 0         \n",
      "_________________________________________________________________\n",
      "batch_normalization_26 (Batc (None, 8)                 32        \n",
      "_________________________________________________________________\n",
      "dense_130 (Dense)            (None, 2)                 18        \n",
      "=================================================================\n",
      "Total params: 650\n",
      "Trainable params: 634\n",
      "Non-trainable params: 16\n",
      "_________________________________________________________________\n",
      "Train on 2263 samples, validate on 251 samples\n",
      "Epoch 1/5\n",
      "2263/2263 [==============================] - 3s 1ms/step - loss: 0.7733 - acc: 0.5303 - val_loss: 0.6983 - val_acc: 0.5259\n",
      "Epoch 2/5\n",
      "2263/2263 [==============================] - 0s 213us/step - loss: 0.7767 - acc: 0.5356 - val_loss: 0.7234 - val_acc: 0.5259\n",
      "Epoch 3/5\n",
      "2263/2263 [==============================] - 0s 220us/step - loss: 0.7686 - acc: 0.5334 - val_loss: 0.6972 - val_acc: 0.4741\n",
      "Epoch 4/5\n",
      "2263/2263 [==============================] - 1s 224us/step - loss: 0.7665 - acc: 0.5365 - val_loss: 0.7334 - val_acc: 0.5259\n",
      "Epoch 5/5\n",
      "2263/2263 [==============================] - 0s 211us/step - loss: 0.7650 - acc: 0.5307 - val_loss: 0.7260 - val_acc: 0.5259\n",
      "251/251 [==============================] - 0s 83us/step\n",
      "Test loss: 0.7259586612541837\n",
      "Test accuracy: 0.525896415529973\n"
     ]
    },
    {
     "data": {
      "image/png": "[encoded data removed]",
      "text/plain": [
       "<Figure size 432x288 with 1 Axes>"
      ]
     },
     "metadata": {},
     "output_type": "display_data"
    }
   ],
   "source": [
    "import keras\n",
    "from sklearn import preprocessing\n",
    "from keras.models import Sequential      ###模型選擇###\n",
    "from keras.layers import Dense,Dropout   ###用於定義神經網路層###\n",
    "from keras.optimizers import Adam     ###選擇優化器###\n",
    "from keras.layers import BatchNormalization \n",
    "from keras.layers import Conv1D,MaxPooling1D,Flatten\n",
    "import matplotlib.pyplot as plt\n",
    "###---###\n",
    "NN_x_train = preprocessing.normalize(NN_x_train)\n",
    "NN_x_test = preprocessing.normalize(NN_x_test)\n",
    "###---------建構模型--------###\n",
    "model = Sequential()                                              ###TOBEDEFINE選擇原因###\n",
    "model.add(Dense(8,activation = 'relu',input_shape = (5,)))    ###建構第一層輸入層###\n",
    "model.add(Dropout(0.2))                                           ###防止OVERFITTING捨棄0.2%的層數###\n",
    "model.add(Dense(16,activation = 'relu'))                         ###建構隱藏層###\n",
    "model.add(Dropout(0.2)) \n",
    "model.add(Dense(16,activation = 'relu'))                         ###建構隱藏層###\n",
    "model.add(Dropout(0.2)) \n",
    "model.add(Dense(8,activation = 'relu'))                         ###建構隱藏層###\n",
    "model.add(Dropout(0.2)) \n",
    "model.add(BatchNormalization())\n",
    "model.add(Dense(2,activation = 'softmax'))                       ###輸出層###\n",
    "model.summary()\n",
    "###-------調整模型參數-------###\n",
    "model.compile(loss = 'categorical_crossentropy',                  ###LOSS FUNCTION使用一般CROSSRNTROPY###\n",
    "             optimizer = Adam(lr=0.1),                               ###優化器###\n",
    "             metrics = ['accuracy'])                              ###準確率使用accuracy###\n",
    "\n",
    "class_weight = {\n",
    "    0: 1.,\n",
    "    1: 1239 / 1025\n",
    "}\n",
    "###---------training---------###\n",
    "history = model.fit(NN_x_train,NN_y_train,batch_size = 8,epochs = 5,verbose = 1, ###fitting data###\n",
    "         validation_data = (NN_x_test,NN_y_test),class_weight=class_weight)\n",
    "'''\n",
    "batch_size = 64 --> 每次訓練丟64張圖片\n",
    "epochs = 2 --> 訓練2輪\n",
    "verbose = 1 --> 選擇輸出訊息方式,0不輸出,1一直輸出更新,2每個epoch輸出一次\n",
    "'''\n",
    "\n",
    "###---------計算score---------###\n",
    "\n",
    "score = model.evaluate(NN_x_test,NN_y_test,verbose = 1)\n",
    "print('Test loss:',score[0])\n",
    "print('Test accuracy:',score[1])\n",
    "\n",
    "###------done the mission------###\n",
    "losses = history.history['loss']\n",
    "plt.plot(range(len(losses)), losses, 'r')\n",
    "plt.show()"
   ]
  },
  {
   "cell_type": "code",
   "execution_count": null,
   "metadata": {},
   "outputs": [],
   "source": []
  },
  {
   "cell_type": "code",
   "execution_count": null,
   "metadata": {},
   "outputs": [],
   "source": []
  }
 ],
 "metadata": {
  "kernelspec": {
   "display_name": "Python 3",
   "language": "python",
   "name": "python3"
  },
  "language_info": {
   "codemirror_mode": {
    "name": "ipython",
    "version": 3
   },
   "file_extension": ".py",
   "mimetype": "text/x-python",
   "name": "python",
   "nbconvert_exporter": "python",
   "pygments_lexer": "ipython3",
   "version": "3.6.4"
  }
 },
 "nbformat": 4,
 "nbformat_minor": 2
}
